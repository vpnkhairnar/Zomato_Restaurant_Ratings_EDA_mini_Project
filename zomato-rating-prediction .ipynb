{
 "cells": [
  {
   "cell_type": "markdown",
   "id": "46cec34a",
   "metadata": {
    "papermill": {
     "duration": 0.094955,
     "end_time": "2022-05-16T06:08:21.383569",
     "exception": false,
     "start_time": "2022-05-16T06:08:21.288614",
     "status": "completed"
    },
    "tags": []
   },
   "source": [
    " Importing the libraires"
   ]
  },
  {
   "cell_type": "code",
   "execution_count": 1,
   "id": "1b401171",
   "metadata": {
    "execution": {
     "iopub.execute_input": "2022-05-16T06:08:21.580552Z",
     "iopub.status.busy": "2022-05-16T06:08:21.579832Z",
     "iopub.status.idle": "2022-05-16T06:08:22.697587Z",
     "shell.execute_reply": "2022-05-16T06:08:22.696528Z"
    },
    "papermill": {
     "duration": 1.219062,
     "end_time": "2022-05-16T06:08:22.700587",
     "exception": false,
     "start_time": "2022-05-16T06:08:21.481525",
     "status": "completed"
    },
    "tags": []
   },
   "outputs": [],
   "source": [
    "import numpy as np\n",
    "import pandas as pd\n",
    "import seaborn as sns\n",
    "import matplotlib.pyplot as plt\n",
    "\n",
    "import warnings\n",
    "warnings.filterwarnings('ignore')"
   ]
  },
  {
   "cell_type": "markdown",
   "id": "3839ebf1",
   "metadata": {
    "papermill": {
     "duration": 0.094794,
     "end_time": "2022-05-16T06:08:22.892244",
     "exception": false,
     "start_time": "2022-05-16T06:08:22.79745",
     "status": "completed"
    },
    "tags": []
   },
   "source": [
    "Loading the dataset"
   ]
  },
  {
   "cell_type": "code",
   "execution_count": null,
   "id": "e2c157e4",
   "metadata": {
    "execution": {
     "iopub.execute_input": "2022-05-16T06:08:23.08473Z",
     "iopub.status.busy": "2022-05-16T06:08:23.084445Z",
     "iopub.status.idle": "2022-05-16T06:08:36.447959Z",
     "shell.execute_reply": "2022-05-16T06:08:36.447272Z"
    },
    "papermill": {
     "duration": 13.463121,
     "end_time": "2022-05-16T06:08:36.450134",
     "exception": false,
     "start_time": "2022-05-16T06:08:22.987013",
     "status": "completed"
    },
    "tags": []
   },
   "outputs": [],
   "source": [
    "data = pd.read_csv('../input/zomato-bangalore-restaurants/zomato.csv')"
   ]
  },
  {
   "cell_type": "markdown",
   "id": "4e33df42",
   "metadata": {
    "papermill": {
     "duration": 0.097904,
     "end_time": "2022-05-16T06:08:36.884814",
     "exception": false,
     "start_time": "2022-05-16T06:08:36.78691",
     "status": "completed"
    },
    "tags": []
   },
   "source": [
    " checking the shape of dataset"
   ]
  },
  {
   "cell_type": "code",
   "execution_count": 4,
   "id": "f6f3f3ee",
   "metadata": {
    "execution": {
     "iopub.execute_input": "2022-05-16T06:08:37.08504Z",
     "iopub.status.busy": "2022-05-16T06:08:37.084563Z",
     "iopub.status.idle": "2022-05-16T06:08:37.089618Z",
     "shell.execute_reply": "2022-05-16T06:08:37.088808Z"
    },
    "papermill": {
     "duration": 0.108095,
     "end_time": "2022-05-16T06:08:37.091679",
     "exception": false,
     "start_time": "2022-05-16T06:08:36.983584",
     "status": "completed"
    },
    "tags": []
   },
   "outputs": [
    {
     "data": {
      "text/plain": [
       "(51717, 17)"
      ]
     },
     "execution_count": 4,
     "metadata": {},
     "output_type": "execute_result"
    }
   ],
   "source": [
    "data.shape"
   ]
  },
  {
   "cell_type": "markdown",
   "id": "a6f2bcee",
   "metadata": {
    "papermill": {
     "duration": 0.097338,
     "end_time": "2022-05-16T06:08:37.287868",
     "exception": false,
     "start_time": "2022-05-16T06:08:37.19053",
     "status": "completed"
    },
    "tags": []
   },
   "source": [
    "- there are total 51717 samples with 17 features."
   ]
  },
  {
   "cell_type": "code",
   "execution_count": 5,
   "id": "9e24e357",
   "metadata": {
    "execution": {
     "iopub.execute_input": "2022-05-16T06:08:37.486736Z",
     "iopub.status.busy": "2022-05-16T06:08:37.486441Z",
     "iopub.status.idle": "2022-05-16T06:08:37.492742Z",
     "shell.execute_reply": "2022-05-16T06:08:37.491937Z"
    },
    "papermill": {
     "duration": 0.108712,
     "end_time": "2022-05-16T06:08:37.494775",
     "exception": false,
     "start_time": "2022-05-16T06:08:37.386063",
     "status": "completed"
    },
    "tags": []
   },
   "outputs": [
    {
     "data": {
      "text/plain": [
       "Index(['url', 'address', 'name', 'online_order', 'book_table', 'rate', 'votes',\n",
       "       'phone', 'location', 'rest_type', 'dish_liked', 'cuisines',\n",
       "       'approx_cost(for two people)', 'reviews_list', 'menu_item',\n",
       "       'listed_in(type)', 'listed_in(city)'],\n",
       "      dtype='object')"
      ]
     },
     "execution_count": 5,
     "metadata": {},
     "output_type": "execute_result"
    }
   ],
   "source": [
    "data.columns"
   ]
  },
  {
   "cell_type": "markdown",
   "id": "d2d99300",
   "metadata": {
    "papermill": {
     "duration": 0.098351,
     "end_time": "2022-05-16T06:08:37.693923",
     "exception": false,
     "start_time": "2022-05-16T06:08:37.595572",
     "status": "completed"
    },
    "tags": []
   },
   "source": [
    " checking the datatypes"
   ]
  },
  {
   "cell_type": "code",
   "execution_count": 6,
   "id": "970b2a15",
   "metadata": {
    "execution": {
     "iopub.execute_input": "2022-05-16T06:08:37.891447Z",
     "iopub.status.busy": "2022-05-16T06:08:37.890532Z",
     "iopub.status.idle": "2022-05-16T06:08:38.009485Z",
     "shell.execute_reply": "2022-05-16T06:08:38.008243Z"
    },
    "papermill": {
     "duration": 0.219935,
     "end_time": "2022-05-16T06:08:38.011728",
     "exception": false,
     "start_time": "2022-05-16T06:08:37.791793",
     "status": "completed"
    },
    "tags": []
   },
   "outputs": [
    {
     "name": "stdout",
     "output_type": "stream",
     "text": [
      "<class 'pandas.core.frame.DataFrame'>\n",
      "RangeIndex: 51717 entries, 0 to 51716\n",
      "Data columns (total 17 columns):\n",
      " #   Column                       Non-Null Count  Dtype \n",
      "---  ------                       --------------  ----- \n",
      " 0   url                          51717 non-null  object\n",
      " 1   address                      51717 non-null  object\n",
      " 2   name                         51717 non-null  object\n",
      " 3   online_order                 51717 non-null  object\n",
      " 4   book_table                   51717 non-null  object\n",
      " 5   rate                         43942 non-null  object\n",
      " 6   votes                        51717 non-null  int64 \n",
      " 7   phone                        50509 non-null  object\n",
      " 8   location                     51696 non-null  object\n",
      " 9   rest_type                    51490 non-null  object\n",
      " 10  dish_liked                   23639 non-null  object\n",
      " 11  cuisines                     51672 non-null  object\n",
      " 12  approx_cost(for two people)  51371 non-null  object\n",
      " 13  reviews_list                 51717 non-null  object\n",
      " 14  menu_item                    51717 non-null  object\n",
      " 15  listed_in(type)              51717 non-null  object\n",
      " 16  listed_in(city)              51717 non-null  object\n",
      "dtypes: int64(1), object(16)\n",
      "memory usage: 6.7+ MB\n"
     ]
    }
   ],
   "source": [
    "data.info()"
   ]
  },
  {
   "cell_type": "markdown",
   "id": "883dd70b",
   "metadata": {
    "papermill": {
     "duration": 0.099308,
     "end_time": "2022-05-16T06:08:38.211203",
     "exception": false,
     "start_time": "2022-05-16T06:08:38.111895",
     "status": "completed"
    },
    "tags": []
   },
   "source": [
    "- there are so many object type columns, we have to convert them into numeric type. letter we will convert oject dtype to numeric type"
   ]
  },
  {
   "cell_type": "markdown",
   "id": "4ddd7960",
   "metadata": {
    "papermill": {
     "duration": 0.09962,
     "end_time": "2022-05-16T06:08:38.40898",
     "exception": false,
     "start_time": "2022-05-16T06:08:38.30936",
     "status": "completed"
    },
    "tags": []
   },
   "source": [
    " Data Cleaning"
   ]
  },
  {
   "cell_type": "markdown",
   "id": "d63f8e5a",
   "metadata": {
    "papermill": {
     "duration": 0.097898,
     "end_time": "2022-05-16T06:08:38.606842",
     "exception": false,
     "start_time": "2022-05-16T06:08:38.508944",
     "status": "completed"
    },
    "tags": []
   },
   "source": [
    " checking the missing values"
   ]
  },
  {
   "cell_type": "code",
   "execution_count": 7,
   "id": "033dffbe",
   "metadata": {
    "execution": {
     "iopub.execute_input": "2022-05-16T06:08:38.804261Z",
     "iopub.status.busy": "2022-05-16T06:08:38.803991Z",
     "iopub.status.idle": "2022-05-16T06:08:38.90456Z",
     "shell.execute_reply": "2022-05-16T06:08:38.903627Z"
    },
    "papermill": {
     "duration": 0.202164,
     "end_time": "2022-05-16T06:08:38.906838",
     "exception": false,
     "start_time": "2022-05-16T06:08:38.704674",
     "status": "completed"
    },
    "tags": []
   },
   "outputs": [
    {
     "data": {
      "text/plain": [
       "url                                0\n",
       "address                            0\n",
       "name                               0\n",
       "online_order                       0\n",
       "book_table                         0\n",
       "rate                            7775\n",
       "votes                              0\n",
       "phone                           1208\n",
       "location                          21\n",
       "rest_type                        227\n",
       "dish_liked                     28078\n",
       "cuisines                          45\n",
       "approx_cost(for two people)      346\n",
       "reviews_list                       0\n",
       "menu_item                          0\n",
       "listed_in(type)                    0\n",
       "listed_in(city)                    0\n",
       "dtype: int64"
      ]
     },
     "execution_count": 7,
     "metadata": {},
     "output_type": "execute_result"
    }
   ],
   "source": [
    "data.isnull().sum()"
   ]
  },
  {
   "cell_type": "markdown",
   "id": "945c9386",
   "metadata": {
    "papermill": {
     "duration": 0.098625,
     "end_time": "2022-05-16T06:08:39.106913",
     "exception": false,
     "start_time": "2022-05-16T06:08:39.008288",
     "status": "completed"
    },
    "tags": []
   },
   "source": [
    "- there are so many null values.we can clearly see that in the  '__rate__', '__phone__', '__location__', '__rest_type__', '__dish_liked__', '__cuisines__' and '__approx_cost(for two people)__' these columns have missing values.So  firstly we have to handle the missing values."
   ]
  },
  {
   "cell_type": "markdown",
   "id": "19f94e58",
   "metadata": {
    "papermill": {
     "duration": 0.098192,
     "end_time": "2022-05-16T06:08:39.304141",
     "exception": false,
     "start_time": "2022-05-16T06:08:39.205949",
     "status": "completed"
    },
    "tags": []
   },
   "source": [
    " Removing the unnecessary columns form data"
   ]
  },
  {
   "cell_type": "code",
   "execution_count": 8,
   "id": "68d5d549",
   "metadata": {
    "execution": {
     "iopub.execute_input": "2022-05-16T06:08:39.504022Z",
     "iopub.status.busy": "2022-05-16T06:08:39.503745Z",
     "iopub.status.idle": "2022-05-16T06:08:39.51791Z",
     "shell.execute_reply": "2022-05-16T06:08:39.517137Z"
    },
    "papermill": {
     "duration": 0.116926,
     "end_time": "2022-05-16T06:08:39.519774",
     "exception": false,
     "start_time": "2022-05-16T06:08:39.402848",
     "status": "completed"
    },
    "tags": []
   },
   "outputs": [],
   "source": [
    "df = data.drop(['url', 'phone'], axis = 1) # dropped 'url' and 'phone' columns"
   ]
  },
  {
   "cell_type": "code",
   "execution_count": 9,
   "id": "46020025",
   "metadata": {
    "execution": {
     "iopub.execute_input": "2022-05-16T06:08:39.718371Z",
     "iopub.status.busy": "2022-05-16T06:08:39.717928Z",
     "iopub.status.idle": "2022-05-16T06:08:39.734285Z",
     "shell.execute_reply": "2022-05-16T06:08:39.733713Z"
    },
    "papermill": {
     "duration": 0.117813,
     "end_time": "2022-05-16T06:08:39.736112",
     "exception": false,
     "start_time": "2022-05-16T06:08:39.618299",
     "status": "completed"
    },
    "tags": []
   },
   "outputs": [
    {
     "data": {
      "text/html": [
       "<div>\n",
       "<style scoped>\n",
       "    .dataframe tbody tr th:only-of-type {\n",
       "        vertical-align: middle;\n",
       "    }\n",
       "\n",
       "    .dataframe tbody tr th {\n",
       "        vertical-align: top;\n",
       "    }\n",
       "\n",
       "    .dataframe thead th {\n",
       "        text-align: right;\n",
       "    }\n",
       "</style>\n",
       "<table border=\"1\" class=\"dataframe\">\n",
       "  <thead>\n",
       "    <tr style=\"text-align: right;\">\n",
       "      <th></th>\n",
       "      <th>address</th>\n",
       "      <th>name</th>\n",
       "      <th>online_order</th>\n",
       "      <th>book_table</th>\n",
       "      <th>rate</th>\n",
       "      <th>votes</th>\n",
       "      <th>location</th>\n",
       "      <th>rest_type</th>\n",
       "      <th>dish_liked</th>\n",
       "      <th>cuisines</th>\n",
       "      <th>approx_cost(for two people)</th>\n",
       "      <th>reviews_list</th>\n",
       "      <th>menu_item</th>\n",
       "      <th>listed_in(type)</th>\n",
       "      <th>listed_in(city)</th>\n",
       "    </tr>\n",
       "  </thead>\n",
       "  <tbody>\n",
       "    <tr>\n",
       "      <th>0</th>\n",
       "      <td>942, 21st Main Road, 2nd Stage, Banashankari, ...</td>\n",
       "      <td>Jalsa</td>\n",
       "      <td>Yes</td>\n",
       "      <td>Yes</td>\n",
       "      <td>4.1/5</td>\n",
       "      <td>775</td>\n",
       "      <td>Banashankari</td>\n",
       "      <td>Casual Dining</td>\n",
       "      <td>Pasta, Lunch Buffet, Masala Papad, Paneer Laja...</td>\n",
       "      <td>North Indian, Mughlai, Chinese</td>\n",
       "      <td>800</td>\n",
       "      <td>[('Rated 4.0', 'RATED\\n  A beautiful place to ...</td>\n",
       "      <td>[]</td>\n",
       "      <td>Buffet</td>\n",
       "      <td>Banashankari</td>\n",
       "    </tr>\n",
       "    <tr>\n",
       "      <th>1</th>\n",
       "      <td>2nd Floor, 80 Feet Road, Near Big Bazaar, 6th ...</td>\n",
       "      <td>Spice Elephant</td>\n",
       "      <td>Yes</td>\n",
       "      <td>No</td>\n",
       "      <td>4.1/5</td>\n",
       "      <td>787</td>\n",
       "      <td>Banashankari</td>\n",
       "      <td>Casual Dining</td>\n",
       "      <td>Momos, Lunch Buffet, Chocolate Nirvana, Thai G...</td>\n",
       "      <td>Chinese, North Indian, Thai</td>\n",
       "      <td>800</td>\n",
       "      <td>[('Rated 4.0', 'RATED\\n  Had been here for din...</td>\n",
       "      <td>[]</td>\n",
       "      <td>Buffet</td>\n",
       "      <td>Banashankari</td>\n",
       "    </tr>\n",
       "    <tr>\n",
       "      <th>2</th>\n",
       "      <td>1112, Next to KIMS Medical College, 17th Cross...</td>\n",
       "      <td>San Churro Cafe</td>\n",
       "      <td>Yes</td>\n",
       "      <td>No</td>\n",
       "      <td>3.8/5</td>\n",
       "      <td>918</td>\n",
       "      <td>Banashankari</td>\n",
       "      <td>Cafe, Casual Dining</td>\n",
       "      <td>Churros, Cannelloni, Minestrone Soup, Hot Choc...</td>\n",
       "      <td>Cafe, Mexican, Italian</td>\n",
       "      <td>800</td>\n",
       "      <td>[('Rated 3.0', \"RATED\\n  Ambience is not that ...</td>\n",
       "      <td>[]</td>\n",
       "      <td>Buffet</td>\n",
       "      <td>Banashankari</td>\n",
       "    </tr>\n",
       "    <tr>\n",
       "      <th>3</th>\n",
       "      <td>1st Floor, Annakuteera, 3rd Stage, Banashankar...</td>\n",
       "      <td>Addhuri Udupi Bhojana</td>\n",
       "      <td>No</td>\n",
       "      <td>No</td>\n",
       "      <td>3.7/5</td>\n",
       "      <td>88</td>\n",
       "      <td>Banashankari</td>\n",
       "      <td>Quick Bites</td>\n",
       "      <td>Masala Dosa</td>\n",
       "      <td>South Indian, North Indian</td>\n",
       "      <td>300</td>\n",
       "      <td>[('Rated 4.0', \"RATED\\n  Great food and proper...</td>\n",
       "      <td>[]</td>\n",
       "      <td>Buffet</td>\n",
       "      <td>Banashankari</td>\n",
       "    </tr>\n",
       "    <tr>\n",
       "      <th>4</th>\n",
       "      <td>10, 3rd Floor, Lakshmi Associates, Gandhi Baza...</td>\n",
       "      <td>Grand Village</td>\n",
       "      <td>No</td>\n",
       "      <td>No</td>\n",
       "      <td>3.8/5</td>\n",
       "      <td>166</td>\n",
       "      <td>Basavanagudi</td>\n",
       "      <td>Casual Dining</td>\n",
       "      <td>Panipuri, Gol Gappe</td>\n",
       "      <td>North Indian, Rajasthani</td>\n",
       "      <td>600</td>\n",
       "      <td>[('Rated 4.0', 'RATED\\n  Very good restaurant ...</td>\n",
       "      <td>[]</td>\n",
       "      <td>Buffet</td>\n",
       "      <td>Banashankari</td>\n",
       "    </tr>\n",
       "  </tbody>\n",
       "</table>\n",
       "</div>"
      ],
      "text/plain": [
       "                                             address                   name  \\\n",
       "0  942, 21st Main Road, 2nd Stage, Banashankari, ...                  Jalsa   \n",
       "1  2nd Floor, 80 Feet Road, Near Big Bazaar, 6th ...         Spice Elephant   \n",
       "2  1112, Next to KIMS Medical College, 17th Cross...        San Churro Cafe   \n",
       "3  1st Floor, Annakuteera, 3rd Stage, Banashankar...  Addhuri Udupi Bhojana   \n",
       "4  10, 3rd Floor, Lakshmi Associates, Gandhi Baza...          Grand Village   \n",
       "\n",
       "  online_order book_table   rate  votes      location            rest_type  \\\n",
       "0          Yes        Yes  4.1/5    775  Banashankari        Casual Dining   \n",
       "1          Yes         No  4.1/5    787  Banashankari        Casual Dining   \n",
       "2          Yes         No  3.8/5    918  Banashankari  Cafe, Casual Dining   \n",
       "3           No         No  3.7/5     88  Banashankari          Quick Bites   \n",
       "4           No         No  3.8/5    166  Basavanagudi        Casual Dining   \n",
       "\n",
       "                                          dish_liked  \\\n",
       "0  Pasta, Lunch Buffet, Masala Papad, Paneer Laja...   \n",
       "1  Momos, Lunch Buffet, Chocolate Nirvana, Thai G...   \n",
       "2  Churros, Cannelloni, Minestrone Soup, Hot Choc...   \n",
       "3                                        Masala Dosa   \n",
       "4                                Panipuri, Gol Gappe   \n",
       "\n",
       "                         cuisines approx_cost(for two people)  \\\n",
       "0  North Indian, Mughlai, Chinese                         800   \n",
       "1     Chinese, North Indian, Thai                         800   \n",
       "2          Cafe, Mexican, Italian                         800   \n",
       "3      South Indian, North Indian                         300   \n",
       "4        North Indian, Rajasthani                         600   \n",
       "\n",
       "                                        reviews_list menu_item  \\\n",
       "0  [('Rated 4.0', 'RATED\\n  A beautiful place to ...        []   \n",
       "1  [('Rated 4.0', 'RATED\\n  Had been here for din...        []   \n",
       "2  [('Rated 3.0', \"RATED\\n  Ambience is not that ...        []   \n",
       "3  [('Rated 4.0', \"RATED\\n  Great food and proper...        []   \n",
       "4  [('Rated 4.0', 'RATED\\n  Very good restaurant ...        []   \n",
       "\n",
       "  listed_in(type) listed_in(city)  \n",
       "0          Buffet    Banashankari  \n",
       "1          Buffet    Banashankari  \n",
       "2          Buffet    Banashankari  \n",
       "3          Buffet    Banashankari  \n",
       "4          Buffet    Banashankari  "
      ]
     },
     "execution_count": 9,
     "metadata": {},
     "output_type": "execute_result"
    }
   ],
   "source": [
    "df.head()"
   ]
  },
  {
   "cell_type": "markdown",
   "id": "39a8ea61",
   "metadata": {
    "papermill": {
     "duration": 0.09861,
     "end_time": "2022-05-16T06:08:39.933948",
     "exception": false,
     "start_time": "2022-05-16T06:08:39.835338",
     "status": "completed"
    },
    "tags": []
   },
   "source": [
    " handling the null or missing values"
   ]
  },
  {
   "cell_type": "code",
   "execution_count": 10,
   "id": "c3fef3dc",
   "metadata": {
    "execution": {
     "iopub.execute_input": "2022-05-16T06:08:40.13967Z",
     "iopub.status.busy": "2022-05-16T06:08:40.13931Z",
     "iopub.status.idle": "2022-05-16T06:08:40.228995Z",
     "shell.execute_reply": "2022-05-16T06:08:40.228243Z"
    },
    "papermill": {
     "duration": 0.195023,
     "end_time": "2022-05-16T06:08:40.231237",
     "exception": false,
     "start_time": "2022-05-16T06:08:40.036214",
     "status": "completed"
    },
    "tags": []
   },
   "outputs": [],
   "source": [
    "df.dropna(inplace = True)"
   ]
  },
  {
   "cell_type": "code",
   "execution_count": 11,
   "id": "a3e54bbf",
   "metadata": {
    "execution": {
     "iopub.execute_input": "2022-05-16T06:08:40.433626Z",
     "iopub.status.busy": "2022-05-16T06:08:40.432912Z",
     "iopub.status.idle": "2022-05-16T06:08:40.479147Z",
     "shell.execute_reply": "2022-05-16T06:08:40.478541Z"
    },
    "papermill": {
     "duration": 0.150099,
     "end_time": "2022-05-16T06:08:40.480996",
     "exception": false,
     "start_time": "2022-05-16T06:08:40.330897",
     "status": "completed"
    },
    "tags": []
   },
   "outputs": [
    {
     "data": {
      "text/plain": [
       "address                        0\n",
       "name                           0\n",
       "online_order                   0\n",
       "book_table                     0\n",
       "rate                           0\n",
       "votes                          0\n",
       "location                       0\n",
       "rest_type                      0\n",
       "dish_liked                     0\n",
       "cuisines                       0\n",
       "approx_cost(for two people)    0\n",
       "reviews_list                   0\n",
       "menu_item                      0\n",
       "listed_in(type)                0\n",
       "listed_in(city)                0\n",
       "dtype: int64"
      ]
     },
     "execution_count": 11,
     "metadata": {},
     "output_type": "execute_result"
    }
   ],
   "source": [
    "df.isnull().sum()"
   ]
  },
  {
   "cell_type": "markdown",
   "id": "1cca4141",
   "metadata": {
    "papermill": {
     "duration": 0.098963,
     "end_time": "2022-05-16T06:08:40.679517",
     "exception": false,
     "start_time": "2022-05-16T06:08:40.580554",
     "status": "completed"
    },
    "tags": []
   },
   "source": [
    "- Now there is no null values"
   ]
  },
  {
   "cell_type": "markdown",
   "id": "c3ec98fe",
   "metadata": {
    "papermill": {
     "duration": 0.098616,
     "end_time": "2022-05-16T06:08:40.877299",
     "exception": false,
     "start_time": "2022-05-16T06:08:40.778683",
     "status": "completed"
    },
    "tags": []
   },
   "source": [
    " checking the duplicates & handling the duplicates values"
   ]
  },
  {
   "cell_type": "code",
   "execution_count": 12,
   "id": "e2adc0e3",
   "metadata": {
    "execution": {
     "iopub.execute_input": "2022-05-16T06:08:41.08368Z",
     "iopub.status.busy": "2022-05-16T06:08:41.083233Z",
     "iopub.status.idle": "2022-05-16T06:08:42.819006Z",
     "shell.execute_reply": "2022-05-16T06:08:42.818009Z"
    },
    "papermill": {
     "duration": 1.841489,
     "end_time": "2022-05-16T06:08:42.821145",
     "exception": false,
     "start_time": "2022-05-16T06:08:40.979656",
     "status": "completed"
    },
    "tags": []
   },
   "outputs": [
    {
     "data": {
      "text/plain": [
       "11"
      ]
     },
     "execution_count": 12,
     "metadata": {},
     "output_type": "execute_result"
    }
   ],
   "source": [
    "df.duplicated().sum()"
   ]
  },
  {
   "cell_type": "code",
   "execution_count": 13,
   "id": "8fbda6d5",
   "metadata": {
    "execution": {
     "iopub.execute_input": "2022-05-16T06:08:43.044063Z",
     "iopub.status.busy": "2022-05-16T06:08:43.043617Z",
     "iopub.status.idle": "2022-05-16T06:08:45.294879Z",
     "shell.execute_reply": "2022-05-16T06:08:45.294076Z"
    },
    "papermill": {
     "duration": 2.36582,
     "end_time": "2022-05-16T06:08:45.297233",
     "exception": false,
     "start_time": "2022-05-16T06:08:42.931413",
     "status": "completed"
    },
    "tags": []
   },
   "outputs": [
    {
     "data": {
      "text/plain": [
       "0"
      ]
     },
     "execution_count": 13,
     "metadata": {},
     "output_type": "execute_result"
    }
   ],
   "source": [
    "df.drop_duplicates(inplace = True)\n",
    "df.duplicated().sum()"
   ]
  },
  {
   "cell_type": "markdown",
   "id": "756e5627",
   "metadata": {
    "papermill": {
     "duration": 0.099538,
     "end_time": "2022-05-16T06:08:45.917375",
     "exception": false,
     "start_time": "2022-05-16T06:08:45.817837",
     "status": "completed"
    },
    "tags": []
   },
   "source": [
    " Renaming the columns appropriately"
   ]
  },
  {
   "cell_type": "code",
   "execution_count": 14,
   "id": "306f7153",
   "metadata": {
    "execution": {
     "iopub.execute_input": "2022-05-16T06:08:46.12068Z",
     "iopub.status.busy": "2022-05-16T06:08:46.120144Z",
     "iopub.status.idle": "2022-05-16T06:08:46.128401Z",
     "shell.execute_reply": "2022-05-16T06:08:46.12764Z"
    },
    "papermill": {
     "duration": 0.112801,
     "end_time": "2022-05-16T06:08:46.130513",
     "exception": false,
     "start_time": "2022-05-16T06:08:46.017712",
     "status": "completed"
    },
    "tags": []
   },
   "outputs": [],
   "source": [
    "df = df.rename(columns = {'approx_cost(for two people)':'cost',\n",
    "                         'listed_in(type)':'type', 'listed_in(city)': 'city'})"
   ]
  },
  {
   "cell_type": "code",
   "execution_count": 15,
   "id": "7fe2ac6e",
   "metadata": {
    "execution": {
     "iopub.execute_input": "2022-05-16T06:08:46.334017Z",
     "iopub.status.busy": "2022-05-16T06:08:46.333308Z",
     "iopub.status.idle": "2022-05-16T06:08:46.353607Z",
     "shell.execute_reply": "2022-05-16T06:08:46.352631Z"
    },
    "papermill": {
     "duration": 0.124543,
     "end_time": "2022-05-16T06:08:46.355575",
     "exception": false,
     "start_time": "2022-05-16T06:08:46.231032",
     "status": "completed"
    },
    "tags": []
   },
   "outputs": [
    {
     "data": {
      "text/html": [
       "<div>\n",
       "<style scoped>\n",
       "    .dataframe tbody tr th:only-of-type {\n",
       "        vertical-align: middle;\n",
       "    }\n",
       "\n",
       "    .dataframe tbody tr th {\n",
       "        vertical-align: top;\n",
       "    }\n",
       "\n",
       "    .dataframe thead th {\n",
       "        text-align: right;\n",
       "    }\n",
       "</style>\n",
       "<table border=\"1\" class=\"dataframe\">\n",
       "  <thead>\n",
       "    <tr style=\"text-align: right;\">\n",
       "      <th></th>\n",
       "      <th>address</th>\n",
       "      <th>name</th>\n",
       "      <th>online_order</th>\n",
       "      <th>book_table</th>\n",
       "      <th>rate</th>\n",
       "      <th>votes</th>\n",
       "      <th>location</th>\n",
       "      <th>rest_type</th>\n",
       "      <th>dish_liked</th>\n",
       "      <th>cuisines</th>\n",
       "      <th>cost</th>\n",
       "      <th>reviews_list</th>\n",
       "      <th>menu_item</th>\n",
       "      <th>type</th>\n",
       "      <th>city</th>\n",
       "    </tr>\n",
       "  </thead>\n",
       "  <tbody>\n",
       "    <tr>\n",
       "      <th>0</th>\n",
       "      <td>942, 21st Main Road, 2nd Stage, Banashankari, ...</td>\n",
       "      <td>Jalsa</td>\n",
       "      <td>Yes</td>\n",
       "      <td>Yes</td>\n",
       "      <td>4.1/5</td>\n",
       "      <td>775</td>\n",
       "      <td>Banashankari</td>\n",
       "      <td>Casual Dining</td>\n",
       "      <td>Pasta, Lunch Buffet, Masala Papad, Paneer Laja...</td>\n",
       "      <td>North Indian, Mughlai, Chinese</td>\n",
       "      <td>800</td>\n",
       "      <td>[('Rated 4.0', 'RATED\\n  A beautiful place to ...</td>\n",
       "      <td>[]</td>\n",
       "      <td>Buffet</td>\n",
       "      <td>Banashankari</td>\n",
       "    </tr>\n",
       "    <tr>\n",
       "      <th>1</th>\n",
       "      <td>2nd Floor, 80 Feet Road, Near Big Bazaar, 6th ...</td>\n",
       "      <td>Spice Elephant</td>\n",
       "      <td>Yes</td>\n",
       "      <td>No</td>\n",
       "      <td>4.1/5</td>\n",
       "      <td>787</td>\n",
       "      <td>Banashankari</td>\n",
       "      <td>Casual Dining</td>\n",
       "      <td>Momos, Lunch Buffet, Chocolate Nirvana, Thai G...</td>\n",
       "      <td>Chinese, North Indian, Thai</td>\n",
       "      <td>800</td>\n",
       "      <td>[('Rated 4.0', 'RATED\\n  Had been here for din...</td>\n",
       "      <td>[]</td>\n",
       "      <td>Buffet</td>\n",
       "      <td>Banashankari</td>\n",
       "    </tr>\n",
       "    <tr>\n",
       "      <th>2</th>\n",
       "      <td>1112, Next to KIMS Medical College, 17th Cross...</td>\n",
       "      <td>San Churro Cafe</td>\n",
       "      <td>Yes</td>\n",
       "      <td>No</td>\n",
       "      <td>3.8/5</td>\n",
       "      <td>918</td>\n",
       "      <td>Banashankari</td>\n",
       "      <td>Cafe, Casual Dining</td>\n",
       "      <td>Churros, Cannelloni, Minestrone Soup, Hot Choc...</td>\n",
       "      <td>Cafe, Mexican, Italian</td>\n",
       "      <td>800</td>\n",
       "      <td>[('Rated 3.0', \"RATED\\n  Ambience is not that ...</td>\n",
       "      <td>[]</td>\n",
       "      <td>Buffet</td>\n",
       "      <td>Banashankari</td>\n",
       "    </tr>\n",
       "    <tr>\n",
       "      <th>3</th>\n",
       "      <td>1st Floor, Annakuteera, 3rd Stage, Banashankar...</td>\n",
       "      <td>Addhuri Udupi Bhojana</td>\n",
       "      <td>No</td>\n",
       "      <td>No</td>\n",
       "      <td>3.7/5</td>\n",
       "      <td>88</td>\n",
       "      <td>Banashankari</td>\n",
       "      <td>Quick Bites</td>\n",
       "      <td>Masala Dosa</td>\n",
       "      <td>South Indian, North Indian</td>\n",
       "      <td>300</td>\n",
       "      <td>[('Rated 4.0', \"RATED\\n  Great food and proper...</td>\n",
       "      <td>[]</td>\n",
       "      <td>Buffet</td>\n",
       "      <td>Banashankari</td>\n",
       "    </tr>\n",
       "    <tr>\n",
       "      <th>4</th>\n",
       "      <td>10, 3rd Floor, Lakshmi Associates, Gandhi Baza...</td>\n",
       "      <td>Grand Village</td>\n",
       "      <td>No</td>\n",
       "      <td>No</td>\n",
       "      <td>3.8/5</td>\n",
       "      <td>166</td>\n",
       "      <td>Basavanagudi</td>\n",
       "      <td>Casual Dining</td>\n",
       "      <td>Panipuri, Gol Gappe</td>\n",
       "      <td>North Indian, Rajasthani</td>\n",
       "      <td>600</td>\n",
       "      <td>[('Rated 4.0', 'RATED\\n  Very good restaurant ...</td>\n",
       "      <td>[]</td>\n",
       "      <td>Buffet</td>\n",
       "      <td>Banashankari</td>\n",
       "    </tr>\n",
       "  </tbody>\n",
       "</table>\n",
       "</div>"
      ],
      "text/plain": [
       "                                             address                   name  \\\n",
       "0  942, 21st Main Road, 2nd Stage, Banashankari, ...                  Jalsa   \n",
       "1  2nd Floor, 80 Feet Road, Near Big Bazaar, 6th ...         Spice Elephant   \n",
       "2  1112, Next to KIMS Medical College, 17th Cross...        San Churro Cafe   \n",
       "3  1st Floor, Annakuteera, 3rd Stage, Banashankar...  Addhuri Udupi Bhojana   \n",
       "4  10, 3rd Floor, Lakshmi Associates, Gandhi Baza...          Grand Village   \n",
       "\n",
       "  online_order book_table   rate  votes      location            rest_type  \\\n",
       "0          Yes        Yes  4.1/5    775  Banashankari        Casual Dining   \n",
       "1          Yes         No  4.1/5    787  Banashankari        Casual Dining   \n",
       "2          Yes         No  3.8/5    918  Banashankari  Cafe, Casual Dining   \n",
       "3           No         No  3.7/5     88  Banashankari          Quick Bites   \n",
       "4           No         No  3.8/5    166  Basavanagudi        Casual Dining   \n",
       "\n",
       "                                          dish_liked  \\\n",
       "0  Pasta, Lunch Buffet, Masala Papad, Paneer Laja...   \n",
       "1  Momos, Lunch Buffet, Chocolate Nirvana, Thai G...   \n",
       "2  Churros, Cannelloni, Minestrone Soup, Hot Choc...   \n",
       "3                                        Masala Dosa   \n",
       "4                                Panipuri, Gol Gappe   \n",
       "\n",
       "                         cuisines cost  \\\n",
       "0  North Indian, Mughlai, Chinese  800   \n",
       "1     Chinese, North Indian, Thai  800   \n",
       "2          Cafe, Mexican, Italian  800   \n",
       "3      South Indian, North Indian  300   \n",
       "4        North Indian, Rajasthani  600   \n",
       "\n",
       "                                        reviews_list menu_item    type  \\\n",
       "0  [('Rated 4.0', 'RATED\\n  A beautiful place to ...        []  Buffet   \n",
       "1  [('Rated 4.0', 'RATED\\n  Had been here for din...        []  Buffet   \n",
       "2  [('Rated 3.0', \"RATED\\n  Ambience is not that ...        []  Buffet   \n",
       "3  [('Rated 4.0', \"RATED\\n  Great food and proper...        []  Buffet   \n",
       "4  [('Rated 4.0', 'RATED\\n  Very good restaurant ...        []  Buffet   \n",
       "\n",
       "           city  \n",
       "0  Banashankari  \n",
       "1  Banashankari  \n",
       "2  Banashankari  \n",
       "3  Banashankari  \n",
       "4  Banashankari  "
      ]
     },
     "execution_count": 15,
     "metadata": {},
     "output_type": "execute_result"
    }
   ],
   "source": [
    "df.head()"
   ]
  },
  {
   "cell_type": "markdown",
   "id": "57e8e8b4",
   "metadata": {
    "papermill": {
     "duration": 0.103892,
     "end_time": "2022-05-16T06:08:46.561517",
     "exception": false,
     "start_time": "2022-05-16T06:08:46.457625",
     "status": "completed"
    },
    "tags": []
   },
   "source": [
    "- Sucessfully rename the columns"
   ]
  },
  {
   "cell_type": "markdown",
   "id": "85ea9d11",
   "metadata": {
    "papermill": {
     "duration": 0.101382,
     "end_time": "2022-05-16T06:08:46.765532",
     "exception": false,
     "start_time": "2022-05-16T06:08:46.66415",
     "status": "completed"
    },
    "tags": []
   },
   "source": [
    "cleaning the \"cost\" column"
   ]
  },
  {
   "cell_type": "code",
   "execution_count": 16,
   "id": "6082e5df",
   "metadata": {
    "execution": {
     "iopub.execute_input": "2022-05-16T06:08:46.975952Z",
     "iopub.status.busy": "2022-05-16T06:08:46.975651Z",
     "iopub.status.idle": "2022-05-16T06:08:46.98377Z",
     "shell.execute_reply": "2022-05-16T06:08:46.982832Z"
    },
    "papermill": {
     "duration": 0.114106,
     "end_time": "2022-05-16T06:08:46.985681",
     "exception": false,
     "start_time": "2022-05-16T06:08:46.871575",
     "status": "completed"
    },
    "tags": []
   },
   "outputs": [
    {
     "data": {
      "text/plain": [
       "array(['800', '300', '600', '700', '550', '500', '450', '650', '400',\n",
       "       '750', '200', '850', '1,200', '150', '350', '250', '1,500',\n",
       "       '1,300', '1,000', '100', '900', '1,100', '1,600', '950', '230',\n",
       "       '1,700', '1,400', '1,350', '2,200', '2,000', '1,800', '1,900',\n",
       "       '180', '330', '2,500', '2,100', '3,000', '2,800', '3,400', '40',\n",
       "       '1,250', '3,500', '4,000', '2,400', '1,450', '3,200', '6,000',\n",
       "       '1,050', '4,100', '2,300', '120', '2,600', '5,000', '3,700',\n",
       "       '1,650', '2,700', '4,500'], dtype=object)"
      ]
     },
     "execution_count": 16,
     "metadata": {},
     "output_type": "execute_result"
    }
   ],
   "source": [
    "df['cost'].unique()"
   ]
  },
  {
   "cell_type": "markdown",
   "id": "e68a8af1",
   "metadata": {
    "papermill": {
     "duration": 0.102919,
     "end_time": "2022-05-16T06:08:47.192014",
     "exception": false,
     "start_time": "2022-05-16T06:08:47.089095",
     "status": "completed"
    },
    "tags": []
   },
   "source": [
    "- here we can see that data point is string type and some values like 5,000 6,000   have comma(,). we have  to remove that ',' from the values and we have convert them into numeric type.\n"
   ]
  },
  {
   "cell_type": "code",
   "execution_count": 17,
   "id": "8f646e93",
   "metadata": {
    "execution": {
     "iopub.execute_input": "2022-05-16T06:08:47.400101Z",
     "iopub.status.busy": "2022-05-16T06:08:47.399571Z",
     "iopub.status.idle": "2022-05-16T06:08:47.424516Z",
     "shell.execute_reply": "2022-05-16T06:08:47.423903Z"
    },
    "papermill": {
     "duration": 0.13113,
     "end_time": "2022-05-16T06:08:47.426553",
     "exception": false,
     "start_time": "2022-05-16T06:08:47.295423",
     "status": "completed"
    },
    "tags": []
   },
   "outputs": [
    {
     "data": {
      "text/plain": [
       "array([ 800.,  300.,  600.,  700.,  550.,  500.,  450.,  650.,  400.,\n",
       "        750.,  200.,  850., 1200.,  150.,  350.,  250., 1500., 1300.,\n",
       "       1000.,  100.,  900., 1100., 1600.,  950.,  230., 1700., 1400.,\n",
       "       1350., 2200., 2000., 1800., 1900.,  180.,  330., 2500., 2100.,\n",
       "       3000., 2800., 3400.,   40., 1250., 3500., 4000., 2400., 1450.,\n",
       "       3200., 6000., 1050., 4100., 2300.,  120., 2600., 5000., 3700.,\n",
       "       1650., 2700., 4500.])"
      ]
     },
     "execution_count": 17,
     "metadata": {},
     "output_type": "execute_result"
    }
   ],
   "source": [
    "df['cost'] = df['cost'].apply(lambda x:x.replace(',', '')) # lo\n",
    "df['cost'] = df['cost'].astype(float)\n",
    "\n",
    "df['cost'].unique()"
   ]
  },
  {
   "cell_type": "markdown",
   "id": "6c919c1b",
   "metadata": {
    "papermill": {
     "duration": 0.1041,
     "end_time": "2022-05-16T06:08:47.634553",
     "exception": false,
     "start_time": "2022-05-16T06:08:47.530453",
     "status": "completed"
    },
    "tags": []
   },
   "source": [
    "- Now sucessfully we converted the values into numeric type"
   ]
  },
  {
   "cell_type": "code",
   "execution_count": 19,
   "id": "ff8106cf",
   "metadata": {
    "execution": {
     "iopub.execute_input": "2022-05-16T06:08:48.472949Z",
     "iopub.status.busy": "2022-05-16T06:08:48.472397Z",
     "iopub.status.idle": "2022-05-16T06:08:48.486676Z",
     "shell.execute_reply": "2022-05-16T06:08:48.485897Z"
    },
    "papermill": {
     "duration": 0.120009,
     "end_time": "2022-05-16T06:08:48.489043",
     "exception": false,
     "start_time": "2022-05-16T06:08:48.369034",
     "status": "completed"
    },
    "tags": []
   },
   "outputs": [],
   "source": [
    "df = df.loc[df.rate != 'NEW'] # geting rid of 'NEW'"
   ]
  },
  {
   "cell_type": "code",
   "execution_count": 20,
   "id": "15b8e92a",
   "metadata": {
    "execution": {
     "iopub.execute_input": "2022-05-16T06:08:48.700124Z",
     "iopub.status.busy": "2022-05-16T06:08:48.699223Z",
     "iopub.status.idle": "2022-05-16T06:08:48.707121Z",
     "shell.execute_reply": "2022-05-16T06:08:48.706512Z"
    },
    "papermill": {
     "duration": 0.115054,
     "end_time": "2022-05-16T06:08:48.708913",
     "exception": false,
     "start_time": "2022-05-16T06:08:48.593859",
     "status": "completed"
    },
    "tags": []
   },
   "outputs": [
    {
     "data": {
      "text/plain": [
       "array(['4.1/5', '3.8/5', '3.7/5', '4.6/5', '4.0/5', '4.2/5', '3.9/5',\n",
       "       '3.0/5', '3.6/5', '2.8/5', '4.4/5', '3.1/5', '4.3/5', '2.6/5',\n",
       "       '3.3/5', '3.5/5', '3.8 /5', '3.2/5', '4.5/5', '2.5/5', '2.9/5',\n",
       "       '3.4/5', '2.7/5', '4.7/5', '2.4/5', '2.2/5', '2.3/5', '4.8/5',\n",
       "       '3.9 /5', '4.2 /5', '4.0 /5', '4.1 /5', '2.9 /5', '2.7 /5',\n",
       "       '2.5 /5', '2.6 /5', '4.5 /5', '4.3 /5', '3.7 /5', '4.4 /5',\n",
       "       '4.9/5', '2.1/5', '2.0/5', '1.8/5', '3.4 /5', '3.6 /5', '3.3 /5',\n",
       "       '4.6 /5', '4.9 /5', '3.2 /5', '3.0 /5', '2.8 /5', '3.5 /5',\n",
       "       '3.1 /5', '4.8 /5', '2.3 /5', '4.7 /5', '2.4 /5', '2.1 /5',\n",
       "       '2.2 /5', '2.0 /5', '1.8 /5'], dtype=object)"
      ]
     },
     "execution_count": 20,
     "metadata": {},
     "output_type": "execute_result"
    }
   ],
   "source": [
    "df['rate'].unique()"
   ]
  },
  {
   "cell_type": "code",
   "execution_count": 21,
   "id": "42a13b05",
   "metadata": {
    "execution": {
     "iopub.execute_input": "2022-05-16T06:08:48.920112Z",
     "iopub.status.busy": "2022-05-16T06:08:48.919683Z",
     "iopub.status.idle": "2022-05-16T06:08:48.937995Z",
     "shell.execute_reply": "2022-05-16T06:08:48.937454Z"
    },
    "papermill": {
     "duration": 0.128148,
     "end_time": "2022-05-16T06:08:48.94012",
     "exception": false,
     "start_time": "2022-05-16T06:08:48.811972",
     "status": "completed"
    },
    "tags": []
   },
   "outputs": [
    {
     "data": {
      "text/plain": [
       "array(['4.1', '3.8', '3.7', '4.6', '4.0', '4.2', '3.9', '3.0', '3.6',\n",
       "       '2.8', '4.4', '3.1', '4.3', '2.6', '3.3', '3.5', '3.8 ', '3.2',\n",
       "       '4.5', '2.5', '2.9', '3.4', '2.7', '4.7', '2.4', '2.2', '2.3',\n",
       "       '4.8', '3.9 ', '4.2 ', '4.0 ', '4.1 ', '2.9 ', '2.7 ', '2.5 ',\n",
       "       '2.6 ', '4.5 ', '4.3 ', '3.7 ', '4.4 ', '4.9', '2.1', '2.0', '1.8',\n",
       "       '3.4 ', '3.6 ', '3.3 ', '4.6 ', '4.9 ', '3.2 ', '3.0 ', '2.8 ',\n",
       "       '3.5 ', '3.1 ', '4.8 ', '2.3 ', '4.7 ', '2.4 ', '2.1 ', '2.2 ',\n",
       "       '2.0 ', '1.8 '], dtype=object)"
      ]
     },
     "execution_count": 21,
     "metadata": {},
     "output_type": "execute_result"
    }
   ],
   "source": [
    "df['rate'] = df['rate'].apply(lambda x:x.replace('/5', ''))\n",
    "\n",
    "df['rate'].unique()"
   ]
  },
  {
   "cell_type": "code",
   "execution_count": 22,
   "id": "4499ba50",
   "metadata": {
    "execution": {
     "iopub.execute_input": "2022-05-16T06:08:49.153355Z",
     "iopub.status.busy": "2022-05-16T06:08:49.152054Z",
     "iopub.status.idle": "2022-05-16T06:08:49.178923Z",
     "shell.execute_reply": "2022-05-16T06:08:49.178395Z"
    },
    "papermill": {
     "duration": 0.135092,
     "end_time": "2022-05-16T06:08:49.18067",
     "exception": false,
     "start_time": "2022-05-16T06:08:49.045578",
     "status": "completed"
    },
    "tags": []
   },
   "outputs": [
    {
     "data": {
      "text/plain": [
       "0        4.1\n",
       "1        4.1\n",
       "2        3.8\n",
       "3        3.7\n",
       "4        3.8\n",
       "        ... \n",
       "51705    3.8\n",
       "51707    3.9\n",
       "51708    2.8\n",
       "51711    2.5\n",
       "51715    4.3\n",
       "Name: rate, Length: 23248, dtype: float64"
      ]
     },
     "execution_count": 22,
     "metadata": {},
     "output_type": "execute_result"
    }
   ],
   "source": [
    "df['rate'] = df['rate'].apply(lambda x: float(x))\n",
    "df['rate']"
   ]
  },
  {
   "cell_type": "code",
   "execution_count": 26,
   "id": "9aec0764",
   "metadata": {
    "execution": {
     "iopub.execute_input": "2022-05-16T06:08:52.79732Z",
     "iopub.status.busy": "2022-05-16T06:08:52.797055Z",
     "iopub.status.idle": "2022-05-16T06:08:53.288105Z",
     "shell.execute_reply": "2022-05-16T06:08:53.2874Z"
    },
    "papermill": {
     "duration": 0.601407,
     "end_time": "2022-05-16T06:08:53.290092",
     "exception": false,
     "start_time": "2022-05-16T06:08:52.688685",
     "status": "completed"
    },
    "tags": []
   },
   "outputs": [
    {
     "data": {
      "text/plain": [
       "Text(0.5, 1.0, 'Rating Distribution')"
      ]
     },
     "execution_count": 26,
     "metadata": {},
     "output_type": "execute_result"
    },
    {
     "data": {
      "image/png": "[encoded data removed]",
      "text/plain": [
       "<Figure size 648x504 with 1 Axes>"
      ]
     },
     "metadata": {
      "needs_background": "light"
     },
     "output_type": "display_data"
    }
   ],
   "source": [
    "plt.figure(figsize = (9,7))\n",
    "sns.distplot(df['rate'])\n",
    "plt.title('Rating Distribution')"
   ]
  },
  {
   "cell_type": "markdown",
   "id": "c56382b3",
   "metadata": {
    "papermill": {
     "duration": 0.112138,
     "end_time": "2022-05-16T06:08:55.903248",
     "exception": false,
     "start_time": "2022-05-16T06:08:55.79111",
     "status": "completed"
    },
    "tags": []
   },
   "source": [
    "__Insight:__\n",
    "- Here above we can see that most of the restaurants located in '__Koramangala 5th Block__', '__BTM__' & '__Indiranagar__'.\n",
    "- Then least restaurants are located  '__KR Puram__', '__Kanakapura__', '__Magadi Road__'."
   ]
  },
  {
   "cell_type": "markdown",
   "id": "abdfb630",
   "metadata": {
    "papermill": {
     "duration": 0.112064,
     "end_time": "2022-05-16T06:08:56.127564",
     "exception": false,
     "start_time": "2022-05-16T06:08:56.0155",
     "status": "completed"
    },
    "tags": []
   },
   "source": [
    " Restaurant Type"
   ]
  },
  {
   "cell_type": "code",
   "execution_count": 28,
   "id": "9fdb84d1",
   "metadata": {
    "execution": {
     "iopub.execute_input": "2022-05-16T06:08:56.353771Z",
     "iopub.status.busy": "2022-05-16T06:08:56.353424Z",
     "iopub.status.idle": "2022-05-16T06:08:57.776837Z",
     "shell.execute_reply": "2022-05-16T06:08:57.775994Z"
    },
    "papermill": {
     "duration": 1.539682,
     "end_time": "2022-05-16T06:08:57.779674",
     "exception": false,
     "start_time": "2022-05-16T06:08:56.239992",
     "status": "completed"
    },
    "tags": []
   },
   "outputs": [
    {
     "data": {
      "image/png": "[encoded data removed]",
      "text/plain": [
       "<Figure size 1440x2880 with 1 Axes>"
      ]
     },
     "metadata": {
      "needs_background": "light"
     },
     "output_type": "display_data"
    }
   ],
   "source": [
    "plt.figure(figsize = (20,40))\n",
    "t = df['rest_type'].value_counts()\n",
    "sns.barplot(y = t.index ,x = t, palette = 'Paired')\n",
    "plt.title('Restaurant Type')\n",
    "plt.show()\n",
    "plt.show()"
   ]
  },
  {
   "cell_type": "markdown",
   "id": "d477fc1a",
   "metadata": {
    "papermill": {
     "duration": 0.121676,
     "end_time": "2022-05-16T06:08:58.018273",
     "exception": false,
     "start_time": "2022-05-16T06:08:57.896597",
     "status": "completed"
    },
    "tags": []
   },
   "source": [
    "__Insight:__\n",
    "\n",
    "- 'Casual Dining', 'Quick Bites', 'Cafe', 'Dessert Parlor' are the most common types of  restaurant.\n",
    "- 'Food Court, Casual Dining', 'Dhaba' are the least common. "
   ]
  },
  {
   "cell_type": "markdown",
   "id": "17b2a388",
   "metadata": {
    "papermill": {
     "duration": 0.115633,
     "end_time": "2022-05-16T06:08:58.251023",
     "exception": false,
     "start_time": "2022-05-16T06:08:58.13539",
     "status": "completed"
    },
    "tags": []
   },
   "source": [
    " Most Liked Dishes"
   ]
  },
  {
   "cell_type": "code",
   "execution_count": 29,
   "id": "01c95056",
   "metadata": {
    "execution": {
     "iopub.execute_input": "2022-05-16T06:08:58.490073Z",
     "iopub.status.busy": "2022-05-16T06:08:58.489549Z",
     "iopub.status.idle": "2022-05-16T06:08:58.75722Z",
     "shell.execute_reply": "2022-05-16T06:08:58.756142Z"
    },
    "papermill": {
     "duration": 0.391188,
     "end_time": "2022-05-16T06:08:58.759744",
     "exception": false,
     "start_time": "2022-05-16T06:08:58.368556",
     "status": "completed"
    },
    "tags": []
   },
   "outputs": [],
   "source": [
    "import re\n",
    "\n",
    "df.index=range(df.shape[0])\n",
    "likes=[]\n",
    "for i in range(df.shape[0]):\n",
    "    array_split=re.split(',',df['dish_liked'][i])\n",
    "    for item in array_split:\n",
    "        likes.append(item)"
   ]
  },
  {
   "cell_type": "code",
   "execution_count": 30,
   "id": "f2c20f25",
   "metadata": {
    "execution": {
     "iopub.execute_input": "2022-05-16T06:08:59.001763Z",
     "iopub.status.busy": "2022-05-16T06:08:59.001303Z",
     "iopub.status.idle": "2022-05-16T06:08:59.045616Z",
     "shell.execute_reply": "2022-05-16T06:08:59.044814Z"
    },
    "papermill": {
     "duration": 0.166249,
     "end_time": "2022-05-16T06:08:59.047647",
     "exception": false,
     "start_time": "2022-05-16T06:08:58.881398",
     "status": "completed"
    },
    "tags": []
   },
   "outputs": [
    {
     "data": {
      "text/plain": [
       " Pasta              2692\n",
       " Pizza              1915\n",
       " Cocktails          1880\n",
       " Burgers            1736\n",
       " Mocktails          1623\n",
       " Biryani            1307\n",
       " Sandwiches         1287\n",
       "Burgers             1256\n",
       " Coffee             1184\n",
       " Nachos             1170\n",
       " Fish               1116\n",
       " Paratha            1107\n",
       " Salads             1055\n",
       " Chicken Biryani    1004\n",
       "Cocktails            891\n",
       " Fries               876\n",
       " Noodles             854\n",
       " Beer                835\n",
       " Mutton Biryani      832\n",
       " Tea                 819\n",
       "Coffee               801\n",
       " Sandwich            788\n",
       " Butter Chicken      782\n",
       " Thali               770\n",
       "Biryani              749\n",
       "Pizza                747\n",
       " Roti                729\n",
       " Brownie             726\n",
       " Salad               677\n",
       " Hot Chocolate       672\n",
       "dtype: int64"
      ]
     },
     "execution_count": 30,
     "metadata": {},
     "output_type": "execute_result"
    }
   ],
   "source": [
    "favourite_food = pd.Series(likes).value_counts()\n",
    "favourite_food.head(30)"
   ]
  },
  {
   "cell_type": "code",
   "execution_count": 31,
   "id": "98ae5527",
   "metadata": {
    "execution": {
     "iopub.execute_input": "2022-05-16T06:08:59.284726Z",
     "iopub.status.busy": "2022-05-16T06:08:59.28442Z",
     "iopub.status.idle": "2022-05-16T06:08:59.731799Z",
     "shell.execute_reply": "2022-05-16T06:08:59.731134Z"
    },
    "papermill": {
     "duration": 0.567943,
     "end_time": "2022-05-16T06:08:59.733939",
     "exception": false,
     "start_time": "2022-05-16T06:08:59.165996",
     "status": "completed"
    },
    "tags": []
   },
   "outputs": [
    {
     "data": {
      "image/png": "[encoded data removed]",
      "text/plain": [
       "<Figure size 1296x720 with 1 Axes>"
      ]
     },
     "metadata": {
      "needs_background": "light"
     },
     "output_type": "display_data"
    }
   ],
   "source": [
    "cmap = plt.get_cmap('Set3')\n",
    "color = cmap(np.arange(len(v)))\n",
    "\n",
    "ax = favourite_food.nlargest(n = 20, keep = 'first').plot(kind = 'bar', figsize = (18,10), title=  'Top 30 Favourite Food counts', color =  color)\n",
    "\n",
    "for i in ax.patches:\n",
    "    ax.annotate(str(i.get_height()), (i.get_x() * 1.005, i.get_height() * 1.005))\n",
    "    "
   ]
  },
  {
   "cell_type": "markdown",
   "id": "26dc0d59",
   "metadata": {
    "papermill": {
     "duration": 0.120009,
     "end_time": "2022-05-16T06:08:59.973952",
     "exception": false,
     "start_time": "2022-05-16T06:08:59.853943",
     "status": "completed"
    },
    "tags": []
   },
   "source": [
    "__Insights:__\n",
    "-  here form above we can see that __pasta__ & __Pizza__ most famous food in bangalore restaurants. "
   ]
  },
  {
   "cell_type": "markdown",
   "id": "ef8936ae",
   "metadata": {
    "papermill": {
     "duration": 0.118398,
     "end_time": "2022-05-16T06:09:00.21399",
     "exception": false,
     "start_time": "2022-05-16T06:09:00.095592",
     "status": "completed"
    },
    "tags": []
   },
   "source": [
    " Most popular cuisines of Bangalore"
   ]
  },
  {
   "cell_type": "code",
   "execution_count": 32,
   "id": "f6b549f5",
   "metadata": {
    "execution": {
     "iopub.execute_input": "2022-05-16T06:09:00.451676Z",
     "iopub.status.busy": "2022-05-16T06:09:00.451145Z",
     "iopub.status.idle": "2022-05-16T06:09:00.833241Z",
     "shell.execute_reply": "2022-05-16T06:09:00.832071Z"
    },
    "papermill": {
     "duration": 0.503364,
     "end_time": "2022-05-16T06:09:00.835325",
     "exception": false,
     "start_time": "2022-05-16T06:09:00.331961",
     "status": "completed"
    },
    "tags": []
   },
   "outputs": [
    {
     "data": {
      "image/png": "[encoded data removed]",
      "text/plain": [
       "<Figure size 1440x576 with 1 Axes>"
      ]
     },
     "metadata": {
      "needs_background": "light"
     },
     "output_type": "display_data"
    }
   ],
   "source": [
    "v = df['cuisines'].value_counts()[:15]\n",
    "plt.figure(figsize = (20,8))\n",
    "\n",
    "ax  = sns.barplot(x = v.index, y = v, palette = 'Paired')\n",
    "\n",
    "for i in ax.patches:\n",
    "    ax.annotate(i.get_height().astype(int), (i.get_x()*1.005, i.get_height()*1.005))\n",
    "\n",
    "\n",
    "plt.title('Most popular cuisines of Bangalore', fontsize = 20)\n",
    "plt.xlabel('Cuisines', fontsize = 15)\n",
    "plt.ylabel('Frequency', fontsize = 15)\n",
    "plt.xticks(rotation =90)\n",
    "plt.show()\n"
   ]
  },
  {
   "cell_type": "markdown",
   "id": "c707316f",
   "metadata": {
    "papermill": {
     "duration": 0.121565,
     "end_time": "2022-05-16T06:09:01.080544",
     "exception": false,
     "start_time": "2022-05-16T06:09:00.958979",
     "status": "completed"
    },
    "tags": []
   },
   "source": [
    "__Insights:__\n",
    "-  Here form above we can see that North Indian  Cuisines are most famous in bangalore restaurants. "
   ]
  },
  {
   "cell_type": "markdown",
   "id": "2a12231c",
   "metadata": {
    "papermill": {
     "duration": 0.119476,
     "end_time": "2022-05-16T06:09:01.319677",
     "exception": false,
     "start_time": "2022-05-16T06:09:01.200201",
     "status": "completed"
    },
    "tags": []
   },
   "source": [
    " Distribution of Cost of Food for two People"
   ]
  },
  {
   "cell_type": "markdown",
   "id": "804fc7ed",
   "metadata": {
    "papermill": {
     "duration": 0.119138,
     "end_time": "2022-05-16T06:09:01.558554",
     "exception": false,
     "start_time": "2022-05-16T06:09:01.439416",
     "status": "completed"
    },
    "tags": []
   },
   "source": [
    "- contains the approximate cost of meal for two people"
   ]
  },
  {
   "cell_type": "code",
   "execution_count": 33,
   "id": "d4538644",
   "metadata": {
    "execution": {
     "iopub.execute_input": "2022-05-16T06:09:01.800509Z",
     "iopub.status.busy": "2022-05-16T06:09:01.799965Z",
     "iopub.status.idle": "2022-05-16T06:09:02.268448Z",
     "shell.execute_reply": "2022-05-16T06:09:02.267792Z"
    },
    "papermill": {
     "duration": 0.592048,
     "end_time": "2022-05-16T06:09:02.270375",
     "exception": false,
     "start_time": "2022-05-16T06:09:01.678327",
     "status": "completed"
    },
    "tags": []
   },
   "outputs": [
    {
     "data": {
      "image/png": "[encoded data removed]",
      "text/plain": [
       "<Figure size 1440x576 with 1 Axes>"
      ]
     },
     "metadata": {
      "needs_background": "light"
     },
     "output_type": "display_data"
    }
   ],
   "source": [
    "plt.figure(figsize=(20,8))\n",
    "sns.distplot(df['cost'])\n",
    "plt.show()"
   ]
  },
  {
   "cell_type": "code",
   "execution_count": 34,
   "id": "8d60de85",
   "metadata": {
    "execution": {
     "iopub.execute_input": "2022-05-16T06:09:02.514781Z",
     "iopub.status.busy": "2022-05-16T06:09:02.514071Z",
     "iopub.status.idle": "2022-05-16T06:09:02.519631Z",
     "shell.execute_reply": "2022-05-16T06:09:02.518765Z"
    },
    "papermill": {
     "duration": 0.130046,
     "end_time": "2022-05-16T06:09:02.521564",
     "exception": false,
     "start_time": "2022-05-16T06:09:02.391518",
     "status": "completed"
    },
    "tags": []
   },
   "outputs": [
    {
     "data": {
      "text/plain": [
       "Index(['address', 'name', 'online_order', 'book_table', 'rate', 'votes',\n",
       "       'location', 'rest_type', 'dish_liked', 'cuisines', 'cost',\n",
       "       'reviews_list', 'menu_item', 'type', 'city'],\n",
       "      dtype='object')"
      ]
     },
     "execution_count": 34,
     "metadata": {},
     "output_type": "execute_result"
    }
   ],
   "source": [
    "df.columns"
   ]
  },
  {
   "cell_type": "code",
   "execution_count": 35,
   "id": "9d4cf1c7",
   "metadata": {
    "execution": {
     "iopub.execute_input": "2022-05-16T06:09:02.773268Z",
     "iopub.status.busy": "2022-05-16T06:09:02.772856Z",
     "iopub.status.idle": "2022-05-16T06:09:03.597459Z",
     "shell.execute_reply": "2022-05-16T06:09:03.596701Z"
    },
    "papermill": {
     "duration": 0.954044,
     "end_time": "2022-05-16T06:09:03.599661",
     "exception": false,
     "start_time": "2022-05-16T06:09:02.645617",
     "status": "completed"
    },
    "tags": []
   },
   "outputs": [
    {
     "data": {
      "image/png": "[encoded data removed]",
      "text/plain": [
       "<Figure size 1440x576 with 1 Axes>"
      ]
     },
     "metadata": {
      "needs_background": "light"
     },
     "output_type": "display_data"
    }
   ],
   "source": [
    "v = df['cost'].value_counts()\n",
    "plt.figure(figsize = (20,8))\n",
    "\n",
    "sns.barplot(x = v.index, y = v, palette = 'Paired')\n",
    "plt.xticks(rotation  =90)\n",
    "plt.show()"
   ]
  },
  {
   "cell_type": "markdown",
   "id": "36574e84",
   "metadata": {
    "papermill": {
     "duration": 0.12227,
     "end_time": "2022-05-16T06:09:03.845149",
     "exception": false,
     "start_time": "2022-05-16T06:09:03.722879",
     "status": "completed"
    },
    "tags": []
   },
   "source": [
    "__Insights:__\n",
    "-  Here form above we can that most common price for two person is __400__ in bangalore restaurants. "
   ]
  },
  {
   "cell_type": "markdown",
   "id": "1e108163",
   "metadata": {
    "papermill": {
     "duration": 0.148139,
     "end_time": "2022-05-16T06:09:04.123038",
     "exception": false,
     "start_time": "2022-05-16T06:09:03.974899",
     "status": "completed"
    },
    "tags": []
   },
   "source": [
    " Services Types"
   ]
  },
  {
   "cell_type": "code",
   "execution_count": 36,
   "id": "1806c65d",
   "metadata": {
    "execution": {
     "iopub.execute_input": "2022-05-16T06:09:04.374019Z",
     "iopub.status.busy": "2022-05-16T06:09:04.373736Z",
     "iopub.status.idle": "2022-05-16T06:09:04.654352Z",
     "shell.execute_reply": "2022-05-16T06:09:04.653643Z"
    },
    "papermill": {
     "duration": 0.408857,
     "end_time": "2022-05-16T06:09:04.656169",
     "exception": false,
     "start_time": "2022-05-16T06:09:04.247312",
     "status": "completed"
    },
    "tags": []
   },
   "outputs": [
    {
     "data": {
      "image/png": "[encoded data removed]",
      "text/plain": [
       "<Figure size 864x864 with 1 Axes>"
      ]
     },
     "metadata": {
      "needs_background": "light"
     },
     "output_type": "display_data"
    }
   ],
   "source": [
    "#Types of Services\n",
    "\n",
    "ax  = sns.countplot(df['type']).set_xticklabels(sns.countplot(df['type']).get_xticklabels(), rotation=90, ha=\"right\")\n",
    "fig = plt.gcf()\n",
    "fig.set_size_inches(12,12)\n",
    "\n",
    "plt.title('Type of Service')\n",
    "plt.show()"
   ]
  },
  {
   "cell_type": "markdown",
   "id": "29a7f3ac",
   "metadata": {
    "papermill": {
     "duration": 0.124406,
     "end_time": "2022-05-16T06:09:04.904403",
     "exception": false,
     "start_time": "2022-05-16T06:09:04.779997",
     "status": "completed"
    },
    "tags": []
   },
   "source": [
    "__Insights:__\n",
    "-  Here the two main service types are __Delivery__ and __Dine-out__. "
   ]
  },
  {
   "cell_type": "markdown",
   "id": "0e26391e",
   "metadata": {
    "papermill": {
     "duration": 0.124795,
     "end_time": "2022-05-16T06:09:05.155858",
     "exception": false,
     "start_time": "2022-05-16T06:09:05.031063",
     "status": "completed"
    },
    "tags": []
   },
   "source": [
    " Highest vote of restaurant"
   ]
  },
  {
   "cell_type": "code",
   "execution_count": 37,
   "id": "321e83fc",
   "metadata": {
    "execution": {
     "iopub.execute_input": "2022-05-16T06:09:05.408429Z",
     "iopub.status.busy": "2022-05-16T06:09:05.407982Z",
     "iopub.status.idle": "2022-05-16T06:09:05.925437Z",
     "shell.execute_reply": "2022-05-16T06:09:05.924556Z"
    },
    "papermill": {
     "duration": 0.647008,
     "end_time": "2022-05-16T06:09:05.927532",
     "exception": false,
     "start_time": "2022-05-16T06:09:05.280524",
     "status": "completed"
    },
    "tags": []
   },
   "outputs": [
    {
     "data": {
      "image/png": "[encoded data removed]",
      "text/plain": [
       "<Figure size 1440x720 with 1 Axes>"
      ]
     },
     "metadata": {
      "needs_background": "light"
     },
     "output_type": "display_data"
    }
   ],
   "source": [
    "name_grp = df.groupby('name')\n",
    "v = name_grp['votes'].agg(np.sum).sort_values(ascending = False)[:20]  ## Here i selected 20 restaurant based on high votes\n",
    "\n",
    "plt.figure(figsize = (20,10))\n",
    "ax = sns.barplot(y = v, x = v.index)\n",
    "\n",
    "for i in ax.patches:\n",
    "    ax.annotate(i.get_height().astype(int), (i.get_x()* 1.005, i.get_height()*1.005))\n",
    "\n",
    "\n",
    "plt.title('Highest vote of restaurant', fontsize = 20)\n",
    "plt.xlabel('Restaurant', fontsize = 15)\n",
    "plt.ylabel('Frequecy', fontsize = 15)\n",
    "plt.xticks(rotation =90)\n",
    "plt.show()"
   ]
  },
  {
   "cell_type": "markdown",
   "id": "2cc9c4dc",
   "metadata": {
    "papermill": {
     "duration": 0.12738,
     "end_time": "2022-05-16T06:09:06.185198",
     "exception": false,
     "start_time": "2022-05-16T06:09:06.057818",
     "status": "completed"
    },
    "tags": []
   },
   "source": [
    "__Insights:__\n",
    "- Here from the analysis, we can see that   __'Onesta'__, __'Truffles'__ & __'Empire Restaurant'__ are  highly voted restaurants. "
   ]
  },
  {
   "cell_type": "markdown",
   "id": "7b059164",
   "metadata": {
    "papermill": {
     "duration": 0.130008,
     "end_time": "2022-05-16T06:09:06.444567",
     "exception": false,
     "start_time": "2022-05-16T06:09:06.314559",
     "status": "completed"
    },
    "tags": []
   },
   "source": [
    " Data preparing"
   ]
  },
  {
   "cell_type": "code",
   "execution_count": 38,
   "id": "5cd6450d",
   "metadata": {
    "execution": {
     "iopub.execute_input": "2022-05-16T06:09:06.701989Z",
     "iopub.status.busy": "2022-05-16T06:09:06.701186Z",
     "iopub.status.idle": "2022-05-16T06:09:06.72052Z",
     "shell.execute_reply": "2022-05-16T06:09:06.719878Z"
    },
    "papermill": {
     "duration": 0.149629,
     "end_time": "2022-05-16T06:09:06.722518",
     "exception": false,
     "start_time": "2022-05-16T06:09:06.572889",
     "status": "completed"
    },
    "tags": []
   },
   "outputs": [
    {
     "data": {
      "text/html": [
       "<div>\n",
       "<style scoped>\n",
       "    .dataframe tbody tr th:only-of-type {\n",
       "        vertical-align: middle;\n",
       "    }\n",
       "\n",
       "    .dataframe tbody tr th {\n",
       "        vertical-align: top;\n",
       "    }\n",
       "\n",
       "    .dataframe thead th {\n",
       "        text-align: right;\n",
       "    }\n",
       "</style>\n",
       "<table border=\"1\" class=\"dataframe\">\n",
       "  <thead>\n",
       "    <tr style=\"text-align: right;\">\n",
       "      <th></th>\n",
       "      <th>address</th>\n",
       "      <th>name</th>\n",
       "      <th>online_order</th>\n",
       "      <th>book_table</th>\n",
       "      <th>rate</th>\n",
       "      <th>votes</th>\n",
       "      <th>location</th>\n",
       "      <th>rest_type</th>\n",
       "      <th>dish_liked</th>\n",
       "      <th>cuisines</th>\n",
       "      <th>cost</th>\n",
       "      <th>reviews_list</th>\n",
       "      <th>menu_item</th>\n",
       "      <th>type</th>\n",
       "      <th>city</th>\n",
       "    </tr>\n",
       "  </thead>\n",
       "  <tbody>\n",
       "    <tr>\n",
       "      <th>0</th>\n",
       "      <td>942, 21st Main Road, 2nd Stage, Banashankari, ...</td>\n",
       "      <td>Jalsa</td>\n",
       "      <td>Yes</td>\n",
       "      <td>Yes</td>\n",
       "      <td>4.1</td>\n",
       "      <td>775</td>\n",
       "      <td>Banashankari</td>\n",
       "      <td>Casual Dining</td>\n",
       "      <td>Pasta, Lunch Buffet, Masala Papad, Paneer Laja...</td>\n",
       "      <td>North Indian, Mughlai, Chinese</td>\n",
       "      <td>800.0</td>\n",
       "      <td>[('Rated 4.0', 'RATED\\n  A beautiful place to ...</td>\n",
       "      <td>[]</td>\n",
       "      <td>Buffet</td>\n",
       "      <td>Banashankari</td>\n",
       "    </tr>\n",
       "    <tr>\n",
       "      <th>1</th>\n",
       "      <td>2nd Floor, 80 Feet Road, Near Big Bazaar, 6th ...</td>\n",
       "      <td>Spice Elephant</td>\n",
       "      <td>Yes</td>\n",
       "      <td>No</td>\n",
       "      <td>4.1</td>\n",
       "      <td>787</td>\n",
       "      <td>Banashankari</td>\n",
       "      <td>Casual Dining</td>\n",
       "      <td>Momos, Lunch Buffet, Chocolate Nirvana, Thai G...</td>\n",
       "      <td>Chinese, North Indian, Thai</td>\n",
       "      <td>800.0</td>\n",
       "      <td>[('Rated 4.0', 'RATED\\n  Had been here for din...</td>\n",
       "      <td>[]</td>\n",
       "      <td>Buffet</td>\n",
       "      <td>Banashankari</td>\n",
       "    </tr>\n",
       "    <tr>\n",
       "      <th>2</th>\n",
       "      <td>1112, Next to KIMS Medical College, 17th Cross...</td>\n",
       "      <td>San Churro Cafe</td>\n",
       "      <td>Yes</td>\n",
       "      <td>No</td>\n",
       "      <td>3.8</td>\n",
       "      <td>918</td>\n",
       "      <td>Banashankari</td>\n",
       "      <td>Cafe, Casual Dining</td>\n",
       "      <td>Churros, Cannelloni, Minestrone Soup, Hot Choc...</td>\n",
       "      <td>Cafe, Mexican, Italian</td>\n",
       "      <td>800.0</td>\n",
       "      <td>[('Rated 3.0', \"RATED\\n  Ambience is not that ...</td>\n",
       "      <td>[]</td>\n",
       "      <td>Buffet</td>\n",
       "      <td>Banashankari</td>\n",
       "    </tr>\n",
       "    <tr>\n",
       "      <th>3</th>\n",
       "      <td>1st Floor, Annakuteera, 3rd Stage, Banashankar...</td>\n",
       "      <td>Addhuri Udupi Bhojana</td>\n",
       "      <td>No</td>\n",
       "      <td>No</td>\n",
       "      <td>3.7</td>\n",
       "      <td>88</td>\n",
       "      <td>Banashankari</td>\n",
       "      <td>Quick Bites</td>\n",
       "      <td>Masala Dosa</td>\n",
       "      <td>South Indian, North Indian</td>\n",
       "      <td>300.0</td>\n",
       "      <td>[('Rated 4.0', \"RATED\\n  Great food and proper...</td>\n",
       "      <td>[]</td>\n",
       "      <td>Buffet</td>\n",
       "      <td>Banashankari</td>\n",
       "    </tr>\n",
       "    <tr>\n",
       "      <th>4</th>\n",
       "      <td>10, 3rd Floor, Lakshmi Associates, Gandhi Baza...</td>\n",
       "      <td>Grand Village</td>\n",
       "      <td>No</td>\n",
       "      <td>No</td>\n",
       "      <td>3.8</td>\n",
       "      <td>166</td>\n",
       "      <td>Basavanagudi</td>\n",
       "      <td>Casual Dining</td>\n",
       "      <td>Panipuri, Gol Gappe</td>\n",
       "      <td>North Indian, Rajasthani</td>\n",
       "      <td>600.0</td>\n",
       "      <td>[('Rated 4.0', 'RATED\\n  Very good restaurant ...</td>\n",
       "      <td>[]</td>\n",
       "      <td>Buffet</td>\n",
       "      <td>Banashankari</td>\n",
       "    </tr>\n",
       "  </tbody>\n",
       "</table>\n",
       "</div>"
      ],
      "text/plain": [
       "                                             address                   name  \\\n",
       "0  942, 21st Main Road, 2nd Stage, Banashankari, ...                  Jalsa   \n",
       "1  2nd Floor, 80 Feet Road, Near Big Bazaar, 6th ...         Spice Elephant   \n",
       "2  1112, Next to KIMS Medical College, 17th Cross...        San Churro Cafe   \n",
       "3  1st Floor, Annakuteera, 3rd Stage, Banashankar...  Addhuri Udupi Bhojana   \n",
       "4  10, 3rd Floor, Lakshmi Associates, Gandhi Baza...          Grand Village   \n",
       "\n",
       "  online_order book_table  rate  votes      location            rest_type  \\\n",
       "0          Yes        Yes   4.1    775  Banashankari        Casual Dining   \n",
       "1          Yes         No   4.1    787  Banashankari        Casual Dining   \n",
       "2          Yes         No   3.8    918  Banashankari  Cafe, Casual Dining   \n",
       "3           No         No   3.7     88  Banashankari          Quick Bites   \n",
       "4           No         No   3.8    166  Basavanagudi        Casual Dining   \n",
       "\n",
       "                                          dish_liked  \\\n",
       "0  Pasta, Lunch Buffet, Masala Papad, Paneer Laja...   \n",
       "1  Momos, Lunch Buffet, Chocolate Nirvana, Thai G...   \n",
       "2  Churros, Cannelloni, Minestrone Soup, Hot Choc...   \n",
       "3                                        Masala Dosa   \n",
       "4                                Panipuri, Gol Gappe   \n",
       "\n",
       "                         cuisines   cost  \\\n",
       "0  North Indian, Mughlai, Chinese  800.0   \n",
       "1     Chinese, North Indian, Thai  800.0   \n",
       "2          Cafe, Mexican, Italian  800.0   \n",
       "3      South Indian, North Indian  300.0   \n",
       "4        North Indian, Rajasthani  600.0   \n",
       "\n",
       "                                        reviews_list menu_item    type  \\\n",
       "0  [('Rated 4.0', 'RATED\\n  A beautiful place to ...        []  Buffet   \n",
       "1  [('Rated 4.0', 'RATED\\n  Had been here for din...        []  Buffet   \n",
       "2  [('Rated 3.0', \"RATED\\n  Ambience is not that ...        []  Buffet   \n",
       "3  [('Rated 4.0', \"RATED\\n  Great food and proper...        []  Buffet   \n",
       "4  [('Rated 4.0', 'RATED\\n  Very good restaurant ...        []  Buffet   \n",
       "\n",
       "           city  \n",
       "0  Banashankari  \n",
       "1  Banashankari  \n",
       "2  Banashankari  \n",
       "3  Banashankari  \n",
       "4  Banashankari  "
      ]
     },
     "execution_count": 38,
     "metadata": {},
     "output_type": "execute_result"
    }
   ],
   "source": [
    "df.head()"
   ]
  },
  {
   "cell_type": "code",
   "execution_count": 44,
   "id": "b3b2d546",
   "metadata": {
    "execution": {
     "iopub.execute_input": "2022-05-16T06:09:09.194588Z",
     "iopub.status.busy": "2022-05-16T06:09:09.194052Z",
     "iopub.status.idle": "2022-05-16T06:09:09.206358Z",
     "shell.execute_reply": "2022-05-16T06:09:09.205803Z"
    },
    "papermill": {
     "duration": 0.144674,
     "end_time": "2022-05-16T06:09:09.208348",
     "exception": false,
     "start_time": "2022-05-16T06:09:09.063674",
     "status": "completed"
    },
    "tags": []
   },
   "outputs": [
    {
     "data": {
      "text/html": [
       "<div>\n",
       "<style scoped>\n",
       "    .dataframe tbody tr th:only-of-type {\n",
       "        vertical-align: middle;\n",
       "    }\n",
       "\n",
       "    .dataframe tbody tr th {\n",
       "        vertical-align: top;\n",
       "    }\n",
       "\n",
       "    .dataframe thead th {\n",
       "        text-align: right;\n",
       "    }\n",
       "</style>\n",
       "<table border=\"1\" class=\"dataframe\">\n",
       "  <thead>\n",
       "    <tr style=\"text-align: right;\">\n",
       "      <th></th>\n",
       "      <th>online_order</th>\n",
       "      <th>book_table</th>\n",
       "      <th>rate</th>\n",
       "      <th>votes</th>\n",
       "      <th>location</th>\n",
       "      <th>rest_type</th>\n",
       "      <th>cuisines</th>\n",
       "      <th>cost</th>\n",
       "      <th>menu_item</th>\n",
       "    </tr>\n",
       "  </thead>\n",
       "  <tbody>\n",
       "    <tr>\n",
       "      <th>0</th>\n",
       "      <td>1</td>\n",
       "      <td>1</td>\n",
       "      <td>4.1</td>\n",
       "      <td>775</td>\n",
       "      <td>1</td>\n",
       "      <td>20</td>\n",
       "      <td>1386</td>\n",
       "      <td>800.0</td>\n",
       "      <td>5047</td>\n",
       "    </tr>\n",
       "    <tr>\n",
       "      <th>1</th>\n",
       "      <td>1</td>\n",
       "      <td>0</td>\n",
       "      <td>4.1</td>\n",
       "      <td>787</td>\n",
       "      <td>1</td>\n",
       "      <td>20</td>\n",
       "      <td>594</td>\n",
       "      <td>800.0</td>\n",
       "      <td>5047</td>\n",
       "    </tr>\n",
       "    <tr>\n",
       "      <th>2</th>\n",
       "      <td>1</td>\n",
       "      <td>0</td>\n",
       "      <td>3.8</td>\n",
       "      <td>918</td>\n",
       "      <td>1</td>\n",
       "      <td>16</td>\n",
       "      <td>484</td>\n",
       "      <td>800.0</td>\n",
       "      <td>5047</td>\n",
       "    </tr>\n",
       "    <tr>\n",
       "      <th>3</th>\n",
       "      <td>0</td>\n",
       "      <td>0</td>\n",
       "      <td>3.7</td>\n",
       "      <td>88</td>\n",
       "      <td>1</td>\n",
       "      <td>62</td>\n",
       "      <td>1587</td>\n",
       "      <td>300.0</td>\n",
       "      <td>5047</td>\n",
       "    </tr>\n",
       "    <tr>\n",
       "      <th>4</th>\n",
       "      <td>0</td>\n",
       "      <td>0</td>\n",
       "      <td>3.8</td>\n",
       "      <td>166</td>\n",
       "      <td>4</td>\n",
       "      <td>20</td>\n",
       "      <td>1406</td>\n",
       "      <td>600.0</td>\n",
       "      <td>5047</td>\n",
       "    </tr>\n",
       "  </tbody>\n",
       "</table>\n",
       "</div>"
      ],
      "text/plain": [
       "  online_order  book_table  rate  votes  location  rest_type  cuisines   cost  \\\n",
       "0            1           1   4.1    775         1         20      1386  800.0   \n",
       "1            1           0   4.1    787         1         20       594  800.0   \n",
       "2            1           0   3.8    918         1         16       484  800.0   \n",
       "3            0           0   3.7     88         1         62      1587  300.0   \n",
       "4            0           0   3.8    166         4         20      1406  600.0   \n",
       "\n",
       "   menu_item  \n",
       "0       5047  \n",
       "1       5047  \n",
       "2       5047  \n",
       "3       5047  \n",
       "4       5047  "
      ]
     },
     "execution_count": 44,
     "metadata": {},
     "output_type": "execute_result"
    }
   ],
   "source": [
    "my_data.head()"
   ]
  },
  {
   "cell_type": "markdown",
   "id": "eb29bbe3",
   "metadata": {
    "papermill": {
     "duration": 0.132598,
     "end_time": "2022-05-16T06:09:10.445357",
     "exception": false,
     "start_time": "2022-05-16T06:09:10.312759",
     "status": "completed"
    },
    "tags": []
   },
   "source": [
    "__Insights:__\n",
    "- Here from the above we can see that rate is higly correlated with votes. "
   ]
  },
  {
   "cell_type": "markdown",
   "id": "a80e1ac2",
   "metadata": {
    "papermill": {
     "duration": 0.134087,
     "end_time": "2022-05-16T06:09:13.244455",
     "exception": false,
     "start_time": "2022-05-16T06:09:13.110368",
     "status": "completed"
    },
    "tags": []
   },
   "source": [
    " Modeling"
   ]
  },
  {
   "cell_type": "markdown",
   "id": "61462d4b",
   "metadata": {
    "papermill": {
     "duration": 0.142145,
     "end_time": "2022-05-16T06:09:13.537411",
     "exception": false,
     "start_time": "2022-05-16T06:09:13.395266",
     "status": "completed"
    },
    "tags": []
   },
   "source": [
    " Linear Regression"
   ]
  },
  {
   "cell_type": "code",
   "execution_count": 52,
   "id": "dec4282d",
   "metadata": {
    "execution": {
     "iopub.execute_input": "2022-05-16T06:09:13.825907Z",
     "iopub.status.busy": "2022-05-16T06:09:13.825102Z",
     "iopub.status.idle": "2022-05-16T06:09:13.998209Z",
     "shell.execute_reply": "2022-05-16T06:09:13.997149Z"
    },
    "papermill": {
     "duration": 0.317643,
     "end_time": "2022-05-16T06:09:14.001163",
     "exception": false,
     "start_time": "2022-05-16T06:09:13.68352",
     "status": "completed"
    },
    "tags": []
   },
   "outputs": [
    {
     "name": "stdout",
     "output_type": "stream",
     "text": [
      "0.22818828522967072\n"
     ]
    }
   ],
   "source": [
    "from sklearn.linear_model import LinearRegression\n",
    "lr = LinearRegression()\n",
    "lr.fit(X_train,y_train)\n",
    "\n",
    "#predict the test set\n",
    "y_pred = lr.predict(X_test)\n",
    "\n",
    "## Evaluate the model\n",
    "from sklearn.metrics import r2_score\n",
    "print(r2_score(y_test, y_pred))"
   ]
  }
 ],
 "metadata": {
  "kernelspec": {
   "display_name": "Python 3",
   "language": "python",
   "name": "python3"
  },
  "language_info": {
   "codemirror_mode": {
    "name": "ipython",
    "version": 3
   },
   "file_extension": ".py",
   "mimetype": "text/x-python",
   "name": "python",
   "nbconvert_exporter": "python",
   "pygments_lexer": "ipython3",
   "version": "3.7.12"
  },
  "papermill": {
   "default_parameters": {},
   "duration": 113.065759,
   "end_time": "2022-05-16T06:10:03.925893",
   "environment_variables": {},
   "exception": null,
   "input_path": "__notebook__.ipynb",
   "output_path": "__notebook__.ipynb",
   "parameters": {},
   "start_time": "2022-05-16T06:08:10.860134",
   "version": "2.3.4"
  }
 },
 "nbformat": 4,
 "nbformat_minor": 5
}
